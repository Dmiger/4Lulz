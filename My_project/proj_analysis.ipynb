{
 "cells": [
  {
   "cell_type": "code",
   "execution_count": 1,
   "metadata": {},
   "outputs": [],
   "source": [
    "import numpy as np # linear algebra\n",
    "import pandas as pd # data processing, CSV file I/O (e.g. pd.read_csv)\n",
    "import seaborn as sns \n",
    "import matplotlib.pyplot as plt"
   ]
  },
  {
   "cell_type": "markdown",
   "metadata": {},
   "source": [
    "Reading csv and transforming values"
   ]
  },
  {
   "cell_type": "code",
   "execution_count": 8,
   "metadata": {},
   "outputs": [],
   "source": [
    "import os\n",
    "os.getcwd()\n",
    "os.chdir('C:\\\\Users\\\\Sony VAIO Pro\\\\Documents\\\\python_work')\n"
   ]
  },
  {
   "cell_type": "code",
   "execution_count": 9,
   "metadata": {},
   "outputs": [
    {
     "name": "stdout",
     "output_type": "stream",
     "text": [
      "Index(['metro', 'chas', 'dva_chasa', 'noch', 'ves', 'rost', 'vozrast',\n",
      "       'razmer', 'vpopu'],\n",
      "      dtype='object')\n"
     ]
    }
   ],
   "source": [
    "#Read csv\n",
    "df = pd.read_csv(\"blyads_prob.csv\", encoding='cp1251')\n",
    "print(df.columns)\n"
   ]
  },
  {
   "cell_type": "code",
   "execution_count": 10,
   "metadata": {},
   "outputs": [],
   "source": [
    "#Group by data type\n",
    "df.columns.to_series().groupby(df.dtypes).groups\n",
    "\n",
    "df['chas'] = pd.to_numeric(df['chas'], downcast='float', errors='coerce')\n",
    "df['dva_chasa'] = pd.to_numeric(df['dva_chasa'], downcast='float', errors='coerce')\n",
    "df['noch'] = pd.to_numeric(df['noch'], downcast='float', errors='coerce')\n",
    "#df['ves'] = df['ves'].str[5:]\n",
    "df['ves'] = pd.to_numeric(df['ves'], downcast='float', errors='coerce')\n",
    "#df['rost'] = df['rost'].str[6:]\n",
    "df['rost'] = pd.to_numeric(df['rost'], downcast='float', errors='coerce')\n",
    "#df['vozrast'] = df['vozrast'].str[9:]\n",
    "df['vozrast'] = pd.to_numeric(df['vozrast'], downcast='float', errors='coerce')\n",
    "#df['razmer'] = df['razmer'].str[7:]\n",
    "df['razmer'] = pd.to_numeric(df['razmer'], downcast='float', errors='coerce')\n",
    "#df['vpopu'] = df['vpopu'].str[5:]"
   ]
  },
  {
   "cell_type": "code",
   "execution_count": null,
   "metadata": {},
   "outputs": [],
   "source": []
  },
  {
   "cell_type": "code",
   "execution_count": 11,
   "metadata": {},
   "outputs": [
    {
     "name": "stdout",
     "output_type": "stream",
     "text": [
      "                metro    chas  dva_chasa     noch   ves   rost  vozrast  \\\n",
      "0  Ленинский проспект  5000.0    10000.0      NaN  47.0  172.0     27.0   \n",
      "1        Алексеевская  7000.0    14000.0  35000.0  45.0  168.0     27.0   \n",
      "2            Одинцово  3000.0     6000.0  15000.0  62.0  170.0     20.0   \n",
      "3         Шаболовская  8000.0    16000.0  40000.0  50.0  177.0     23.0   \n",
      "4        Марксистская  6000.0    15000.0      NaN  67.0  175.0     34.0   \n",
      "\n",
      "   razmer  vpopu  backdoor  \n",
      "0     2.0      0       NaN  \n",
      "1     4.0      0       NaN  \n",
      "2     3.0      0       NaN  \n",
      "3     3.0      1       0.0  \n",
      "4     2.0      1    5000.0  \n"
     ]
    },
    {
     "name": "stderr",
     "output_type": "stream",
     "text": [
      "c:\\users\\sony vaio pro\\anaconda3\\lib\\site-packages\\ipykernel\\__main__.py:5: SettingWithCopyWarning: \n",
      "A value is trying to be set on a copy of a slice from a DataFrame\n",
      "\n",
      "See the caveats in the documentation: http://pandas.pydata.org/pandas-docs/stable/indexing.html#indexing-view-versus-copy\n",
      "c:\\users\\sony vaio pro\\anaconda3\\lib\\site-packages\\ipykernel\\__main__.py:9: SettingWithCopyWarning: \n",
      "A value is trying to be set on a copy of a slice from a DataFrame\n",
      "\n",
      "See the caveats in the documentation: http://pandas.pydata.org/pandas-docs/stable/indexing.html#indexing-view-versus-copy\n"
     ]
    }
   ],
   "source": [
    "\n",
    "back = df['vpopu'].copy()\n",
    "df = df.assign(backdoor=back)\n",
    "#Replace extra prices with '1'\n",
    "df['vpopu'][df['vpopu'] > 1] = 1\n",
    "#if df.loc[:,('vpopu')]> 1:\n",
    "#    df.loc[:,('vpopu')] = 1\n",
    "    \n",
    "df['backdoor'][0 == df['backdoor']] = 'nan'\n",
    "df['backdoor'][1 == df['backdoor']] = '0'\n",
    "df['backdoor'] = pd.to_numeric(df['backdoor'], downcast='float', errors='coerce')\n",
    "\n",
    "df.chas.value_counts(normalize=False, sort=True,\n",
    "                         ascending=False, bins=None, dropna=True)\n",
    "\n",
    "df.vpopu\n",
    "print(df.head())"
   ]
  },
  {
   "cell_type": "code",
   "execution_count": 13,
   "metadata": {},
   "outputs": [
    {
     "data": {
      "text/plain": [
       "<matplotlib.axes._subplots.AxesSubplot at 0x2bc154fe9b0>"
      ]
     },
     "execution_count": 13,
     "metadata": {},
     "output_type": "execute_result"
    }
   ],
   "source": [
    "corrmat2 = df.corr()\n",
    "#f, ax = plt.subplots(figsize=(12, 9))\n",
    "sns.heatmap(corrmat2,linewidths=.1)\n"
   ]
  },
  {
   "cell_type": "code",
   "execution_count": 14,
   "metadata": {},
   "outputs": [
    {
     "data": {
      "image/png": "[encoded data removed]",
      "text/plain": [
       "<matplotlib.figure.Figure at 0x2bc154ed080>"
      ]
     },
     "metadata": {},
     "output_type": "display_data"
    }
   ],
   "source": [
    "data = df.chas.dropna()\n",
    "n, bins = np.histogram(data, 100)\n",
    "\n",
    "plt.hist(data, bins='auto')\n",
    "\n",
    "plt.show()"
   ]
  },
  {
   "cell_type": "code",
   "execution_count": null,
   "metadata": {},
   "outputs": [],
   "source": []
  }
 ],
 "metadata": {
  "kernelspec": {
   "display_name": "Python [default]",
   "language": "python",
   "name": "python3"
  },
  "language_info": {
   "codemirror_mode": {
    "name": "ipython",
    "version": 3
   },
   "file_extension": ".py",
   "mimetype": "text/x-python",
   "name": "python",
   "nbconvert_exporter": "python",
   "pygments_lexer": "ipython3",
   "version": "3.5.2"
  }
 },
 "nbformat": 4,
 "nbformat_minor": 2
}
